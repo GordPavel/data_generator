{
 "cells": [
  {
   "cell_type": "code",
   "execution_count": null,
   "outputs": [],
   "source": [
    "from csv import reader as csv_reader"
   ],
   "metadata": {
    "collapsed": false,
    "pycharm": {
     "name": "#%%\n"
    }
   }
  },
  {
   "cell_type": "code",
   "execution_count": null,
   "outputs": [],
   "source": [
    "categories = {}\n",
    "category_price_range = {}\n",
    "\n",
    "with open('purchase_categories.csv') as f:\n",
    "    categories_reader = csv_reader(f)\n",
    "    next(categories_reader)\n",
    "    probabilities_sum = 0\n",
    "    for category, price_range_min, price_range_max, probability in categories_reader:\n",
    "        probability = float(probability)\n",
    "        probabilities_sum += probability\n",
    "        categories[category] = probability\n",
    "\n",
    "        category_price_range[category] = float(price_range_min), float(price_range_max)\n",
    "\n",
    "    for category, probability in categories.items():\n",
    "        categories[category] = probability / probabilities_sum"
   ],
   "metadata": {
    "collapsed": false,
    "pycharm": {
     "name": "#%%\n"
    }
   }
  },
  {
   "cell_type": "code",
   "execution_count": null,
   "outputs": [],
   "source": [
    "from collections import defaultdict\n",
    "\n",
    "purchase_names = defaultdict(dict)\n",
    "\n",
    "with open('purchase_names.csv') as f:\n",
    "    purchase_names_reader = csv_reader(f)\n",
    "    next(purchase_names_reader)\n",
    "    probabilities_sums = defaultdict(int)\n",
    "    for purchase_name, category, probability, regularity_probability in purchase_names_reader:\n",
    "        purchase_names[category][purchase_name] = float(probability), float(regularity_probability)\n",
    "        probabilities_sums[category] += float(probability)\n",
    "\n",
    "    for category, purchase_names_list in purchase_names.items():\n",
    "        purchase_names[category] = {\n",
    "            name: (probability / probabilities_sums[category], regularity_probability)\n",
    "            for name, (probability, regularity_probability)\n",
    "            in purchase_names_list.items()\n",
    "        }"
   ],
   "metadata": {
    "collapsed": false,
    "pycharm": {
     "name": "#%%\n"
    }
   }
  },
  {
   "cell_type": "code",
   "execution_count": null,
   "outputs": [],
   "source": [
    "desired_num_of_rows = 100\n",
    "\n",
    "from random import choices, random\n",
    "\n",
    "\n",
    "def rand_with_range(min, max):\n",
    "    r = max - min\n",
    "    return random() * r + min\n",
    "\n",
    "\n",
    "with open('result.csv', 'w') as f:\n",
    "    print('purchase_name,price,category,month,is_regular', file=f)\n",
    "    generated_categories = choices(\n",
    "        population=list(categories.keys()),\n",
    "        weights=list(categories.values()),\n",
    "        k=desired_num_of_rows\n",
    "    )\n",
    "    generated_months = choices(\n",
    "        population=[month + 1 for month in range(11)],\n",
    "        k=desired_num_of_rows\n",
    "    )\n",
    "    for category, month in zip(generated_categories, generated_months):\n",
    "        min_price, max_price = category_price_range[category]\n",
    "        price = round(rand_with_range(min_price, max_price), 1)\n",
    "        category_purchase_names = purchase_names[category]\n",
    "        purchase_name = choices(\n",
    "            population=list(category_purchase_names.keys()),\n",
    "            weights=list(map(lambda x: x[0], category_purchase_names.values()))\n",
    "        )[0]\n",
    "        regularity_probability = purchase_names[category][purchase_name][1]\n",
    "        is_regular = choices(population=[True, False], weights=[regularity_probability, 1 - regularity_probability])[0]\n",
    "        print(purchase_name, price, category, month, is_regular, sep=',', file=f)\n"
   ],
   "metadata": {
    "collapsed": false,
    "pycharm": {
     "name": "#%%\n"
    }
   }
  }
 ],
 "metadata": {
  "kernelspec": {
   "display_name": "Python 3",
   "language": "python",
   "name": "python3"
  },
  "language_info": {
   "codemirror_mode": {
    "name": "ipython",
    "version": 2
   },
   "file_extension": ".py",
   "mimetype": "text/x-python",
   "name": "python",
   "nbconvert_exporter": "python",
   "pygments_lexer": "ipython2",
   "version": "2.7.6"
  }
 },
 "nbformat": 4,
 "nbformat_minor": 0
}